{
 "cells": [
  {
   "cell_type": "markdown",
   "id": "10a53465",
   "metadata": {},
   "source": [
    "# Ex.1 - Load Gage Data and Make a Plot a Temperature Series"
   ]
  },
  {
   "cell_type": "markdown",
   "id": "04822bda",
   "metadata": {},
   "source": [
    "[![Open In Colab](https://colab.research.google.com/assets/colab-badge.svg)](https://colab.research.google.com/github/mrahnis/nb-streamgage/blob/main/Stream%20Gage%20Ex.%201%20-%20Reading%20and%20plotting.ipynb)"
   ]
  },
  {
   "cell_type": "code",
   "execution_count": 1,
   "id": "81e0a85b",
   "metadata": {},
   "outputs": [],
   "source": [
    "# if the notebook is running in colab we'll get the data from github\n",
    "HOST_IS_COLAB = 'google.colab' in str(get_ipython())"
   ]
  },
  {
   "cell_type": "markdown",
   "id": "a32a14c2",
   "metadata": {},
   "source": [
    "## Importing the packages we need\n",
    "\n",
    "First we import libraries or packages we will use. Pandas helps us to work with our data: It provides facilities to read, manipulate and write our data. Matplotlib is a library for plotting data: It provides very precise control over plot properties and with it you can produce complex multipart technical figures.\n",
    "\n",
    "Notice that with an `import` we can assign a shorthand name using the `as` clause. We may also choose to import just part of a package as with the import of `matplotlib.pyplot` below."
   ]
  },
  {
   "cell_type": "code",
   "execution_count": 2,
   "id": "5a366000",
   "metadata": {},
   "outputs": [],
   "source": [
    "import datetime\n",
    "import numpy as np\n",
    "import pandas as pd\n",
    "import matplotlib.pyplot as plt"
   ]
  },
  {
   "cell_type": "markdown",
   "id": "b21c2e4d",
   "metadata": {},
   "source": [
    "## Keep track of the gages we are interested in\n",
    "\n",
    "We can keep a dictionary of gages with the USGS identifier in the key, and a gage name in the value. Choose which one you want to plot by setting the gage variable to one of the keys.\n",
    "\n",
    "We can print links to the USGS NWIS page for each of these in case you want to go to the source. We do this by iterating over the dictionary keys and printing the url."
   ]
  },
  {
   "cell_type": "code",
   "execution_count": 3,
   "id": "285ea3de",
   "metadata": {
    "scrolled": true
   },
   "outputs": [
    {
     "name": "stdout",
     "output_type": "stream",
     "text": [
      "https://waterdata.usgs.gov/monitoring-location/01576516/\n",
      "https://waterdata.usgs.gov/monitoring-location/015765185/\n",
      "https://waterdata.usgs.gov/monitoring-location/015765195/\n"
     ]
    }
   ],
   "source": [
    "gages = {'01576516':'east branch',\n",
    "         '015765185':'west branch',\n",
    "         '015765195':'mainstem'}\n",
    "\n",
    "gage = '015765195'\n",
    "\n",
    "for key in gages:\n",
    "    print('https://waterdata.usgs.gov/monitoring-location/{}/'.format(key))"
   ]
  },
  {
   "cell_type": "markdown",
   "id": "9b748fdb",
   "metadata": {},
   "source": [
    "## Reading our data\n",
    "\n",
    "Next we will read two parquet files using Pandas. The `read_parquet` function takes a quoted string representing the filesystem path to the file we want to read.\n",
    "\n",
    "We use parquet here because it has some advantages over a CSV file:\n",
    "\n",
    "- the filesize is smaller\n",
    "- it is a binary format that reads quickly, whereas CSV is text that needs to be parsed\n",
    "- parquet preserves the index, including indices of datetime"
   ]
  },
  {
   "cell_type": "code",
   "execution_count": 4,
   "id": "8fde6dc7",
   "metadata": {},
   "outputs": [],
   "source": [
    "if HOST_IS_COLAB:\n",
    "    df0 = pd.read_parquet('https://github.com/mrahnis/nb-streamgage/blob/main/data/lang_{}_daily_temp.parquet?raw=true'.format(gage))\n",
    "else:\n",
    "    df0 = pd.read_parquet('./data/lang_{}_daily_temp.parquet'.format(gage))"
   ]
  },
  {
   "cell_type": "code",
   "execution_count": 5,
   "id": "2df3feda",
   "metadata": {},
   "outputs": [],
   "source": [
    "if HOST_IS_COLAB:\n",
    "    df1 = pd.read_parquet('https://github.com/mrahnis/nb-streamgage/blob/main/data/nwis_{}_daily_all.parquet?raw=true'.format(gage))\n",
    "else:\n",
    "    df1 = pd.read_parquet('./data/nwis_{}_daily_all.parquet'.format(gage))"
   ]
  },
  {
   "cell_type": "markdown",
   "id": "56dacab6",
   "metadata": {},
   "source": [
    "# Looking at our data\n",
    "\n",
    "We can examine our `DataFrame` objects. Calling `df0.head()` shows us the first few rows of data. The datetime index is on the left. We will use the column `00010_Mean` for our plot. It corresponds to the daily mean for the USGS NWIS code 00010 for temperature in degrees celcius."
   ]
  },
  {
   "cell_type": "code",
   "execution_count": 6,
   "id": "095af8e3",
   "metadata": {},
   "outputs": [
    {
     "data": {
      "text/html": [
       "<div>\n",
       "<style scoped>\n",
       "    .dataframe tbody tr th:only-of-type {\n",
       "        vertical-align: middle;\n",
       "    }\n",
       "\n",
       "    .dataframe tbody tr th {\n",
       "        vertical-align: top;\n",
       "    }\n",
       "\n",
       "    .dataframe thead th {\n",
       "        text-align: right;\n",
       "    }\n",
       "</style>\n",
       "<table border=\"1\" class=\"dataframe\">\n",
       "  <thead>\n",
       "    <tr style=\"text-align: right;\">\n",
       "      <th></th>\n",
       "      <th>00010_Mean</th>\n",
       "      <th>hist_mean</th>\n",
       "      <th>hist_median</th>\n",
       "      <th>diff_hist_mean</th>\n",
       "      <th>diff_hist_median</th>\n",
       "      <th>comment</th>\n",
       "      <th>site_no</th>\n",
       "    </tr>\n",
       "    <tr>\n",
       "      <th>datetime</th>\n",
       "      <th></th>\n",
       "      <th></th>\n",
       "      <th></th>\n",
       "      <th></th>\n",
       "      <th></th>\n",
       "      <th></th>\n",
       "      <th></th>\n",
       "    </tr>\n",
       "  </thead>\n",
       "  <tbody>\n",
       "    <tr>\n",
       "      <th>2008-10-08 00:00:00-05:00</th>\n",
       "      <td>12.7</td>\n",
       "      <td>15.6600</td>\n",
       "      <td>15.335</td>\n",
       "      <td>-3.0</td>\n",
       "      <td>-2.7</td>\n",
       "      <td>None</td>\n",
       "      <td>15765195</td>\n",
       "    </tr>\n",
       "    <tr>\n",
       "      <th>2008-10-09 00:00:00-05:00</th>\n",
       "      <td>14.8</td>\n",
       "      <td>15.3350</td>\n",
       "      <td>15.360</td>\n",
       "      <td>-0.6</td>\n",
       "      <td>-0.6</td>\n",
       "      <td>None</td>\n",
       "      <td>15765195</td>\n",
       "    </tr>\n",
       "    <tr>\n",
       "      <th>2008-10-10 00:00:00-05:00</th>\n",
       "      <td>13.6</td>\n",
       "      <td>14.9000</td>\n",
       "      <td>14.270</td>\n",
       "      <td>-1.3</td>\n",
       "      <td>-0.7</td>\n",
       "      <td>None</td>\n",
       "      <td>15765195</td>\n",
       "    </tr>\n",
       "    <tr>\n",
       "      <th>2008-10-11 00:00:00-05:00</th>\n",
       "      <td>13.0</td>\n",
       "      <td>13.7850</td>\n",
       "      <td>13.895</td>\n",
       "      <td>-0.8</td>\n",
       "      <td>-0.9</td>\n",
       "      <td>None</td>\n",
       "      <td>15765195</td>\n",
       "    </tr>\n",
       "    <tr>\n",
       "      <th>2008-10-12 00:00:00-05:00</th>\n",
       "      <td>13.1</td>\n",
       "      <td>13.0825</td>\n",
       "      <td>13.010</td>\n",
       "      <td>0.0</td>\n",
       "      <td>0.1</td>\n",
       "      <td>None</td>\n",
       "      <td>15765195</td>\n",
       "    </tr>\n",
       "  </tbody>\n",
       "</table>\n",
       "</div>"
      ],
      "text/plain": [
       "                           00010_Mean  hist_mean  hist_median  diff_hist_mean  \\\n",
       "datetime                                                                        \n",
       "2008-10-08 00:00:00-05:00        12.7    15.6600       15.335            -3.0   \n",
       "2008-10-09 00:00:00-05:00        14.8    15.3350       15.360            -0.6   \n",
       "2008-10-10 00:00:00-05:00        13.6    14.9000       14.270            -1.3   \n",
       "2008-10-11 00:00:00-05:00        13.0    13.7850       13.895            -0.8   \n",
       "2008-10-12 00:00:00-05:00        13.1    13.0825       13.010             0.0   \n",
       "\n",
       "                           diff_hist_median comment   site_no  \n",
       "datetime                                                       \n",
       "2008-10-08 00:00:00-05:00              -2.7    None  15765195  \n",
       "2008-10-09 00:00:00-05:00              -0.6    None  15765195  \n",
       "2008-10-10 00:00:00-05:00              -0.7    None  15765195  \n",
       "2008-10-11 00:00:00-05:00              -0.9    None  15765195  \n",
       "2008-10-12 00:00:00-05:00               0.1    None  15765195  "
      ]
     },
     "execution_count": 6,
     "metadata": {},
     "output_type": "execute_result"
    }
   ],
   "source": [
    "df0.head()"
   ]
  },
  {
   "cell_type": "markdown",
   "id": "10efb5ca",
   "metadata": {},
   "source": [
    "Looking at `df1` we will see it has several other codes. The NWIS codes included here stand for:\n",
    "- 00010 : Temperature in degrees celcius\n",
    "- 00060 : Discharge\n",
    "- 63680 : Turbidity\n",
    "\n",
    "We can describe them to obtain some summary statistics. "
   ]
  },
  {
   "cell_type": "code",
   "execution_count": 7,
   "id": "51c4a508",
   "metadata": {},
   "outputs": [
    {
     "data": {
      "text/html": [
       "<div>\n",
       "<style scoped>\n",
       "    .dataframe tbody tr th:only-of-type {\n",
       "        vertical-align: middle;\n",
       "    }\n",
       "\n",
       "    .dataframe tbody tr th {\n",
       "        vertical-align: top;\n",
       "    }\n",
       "\n",
       "    .dataframe thead th {\n",
       "        text-align: right;\n",
       "    }\n",
       "</style>\n",
       "<table border=\"1\" class=\"dataframe\">\n",
       "  <thead>\n",
       "    <tr style=\"text-align: right;\">\n",
       "      <th></th>\n",
       "      <th>00010_Maximum</th>\n",
       "      <th>00010_Minimum</th>\n",
       "      <th>00010_Mean</th>\n",
       "      <th>00060_Mean</th>\n",
       "      <th>00095_Maximum</th>\n",
       "      <th>00095_Minimum</th>\n",
       "      <th>00095_Mean</th>\n",
       "      <th>63680_Maximum</th>\n",
       "      <th>63680_Minimum</th>\n",
       "      <th>63680_Mean</th>\n",
       "    </tr>\n",
       "  </thead>\n",
       "  <tbody>\n",
       "    <tr>\n",
       "      <th>count</th>\n",
       "      <td>3546.000000</td>\n",
       "      <td>3546.000000</td>\n",
       "      <td>3546.000000</td>\n",
       "      <td>5076.000000</td>\n",
       "      <td>2273.000000</td>\n",
       "      <td>2273.000000</td>\n",
       "      <td>2273.000000</td>\n",
       "      <td>2172.000000</td>\n",
       "      <td>2172.000000</td>\n",
       "      <td>2172.000000</td>\n",
       "    </tr>\n",
       "    <tr>\n",
       "      <th>mean</th>\n",
       "      <td>14.655753</td>\n",
       "      <td>10.344134</td>\n",
       "      <td>12.211337</td>\n",
       "      <td>2.981769</td>\n",
       "      <td>810.393313</td>\n",
       "      <td>693.237132</td>\n",
       "      <td>753.491861</td>\n",
       "      <td>36.400875</td>\n",
       "      <td>2.162799</td>\n",
       "      <td>6.965930</td>\n",
       "    </tr>\n",
       "    <tr>\n",
       "      <th>std</th>\n",
       "      <td>4.831149</td>\n",
       "      <td>4.094666</td>\n",
       "      <td>4.297360</td>\n",
       "      <td>3.959948</td>\n",
       "      <td>164.858284</td>\n",
       "      <td>150.283270</td>\n",
       "      <td>90.434242</td>\n",
       "      <td>93.500496</td>\n",
       "      <td>1.697484</td>\n",
       "      <td>11.176238</td>\n",
       "    </tr>\n",
       "    <tr>\n",
       "      <th>min</th>\n",
       "      <td>2.600000</td>\n",
       "      <td>-0.000000</td>\n",
       "      <td>1.100000</td>\n",
       "      <td>0.340000</td>\n",
       "      <td>541.000000</td>\n",
       "      <td>86.000000</td>\n",
       "      <td>375.000000</td>\n",
       "      <td>1.100000</td>\n",
       "      <td>0.000000</td>\n",
       "      <td>0.600000</td>\n",
       "    </tr>\n",
       "    <tr>\n",
       "      <th>25%</th>\n",
       "      <td>10.300000</td>\n",
       "      <td>6.800000</td>\n",
       "      <td>8.400000</td>\n",
       "      <td>1.420000</td>\n",
       "      <td>752.000000</td>\n",
       "      <td>685.000000</td>\n",
       "      <td>725.000000</td>\n",
       "      <td>5.800000</td>\n",
       "      <td>1.100000</td>\n",
       "      <td>2.400000</td>\n",
       "    </tr>\n",
       "    <tr>\n",
       "      <th>50%</th>\n",
       "      <td>15.200000</td>\n",
       "      <td>10.700000</td>\n",
       "      <td>12.700000</td>\n",
       "      <td>2.110000</td>\n",
       "      <td>779.000000</td>\n",
       "      <td>740.000000</td>\n",
       "      <td>756.000000</td>\n",
       "      <td>10.000000</td>\n",
       "      <td>1.800000</td>\n",
       "      <td>4.000000</td>\n",
       "    </tr>\n",
       "    <tr>\n",
       "      <th>75%</th>\n",
       "      <td>18.800000</td>\n",
       "      <td>14.100000</td>\n",
       "      <td>16.000000</td>\n",
       "      <td>3.100000</td>\n",
       "      <td>823.000000</td>\n",
       "      <td>772.000000</td>\n",
       "      <td>789.000000</td>\n",
       "      <td>29.000000</td>\n",
       "      <td>2.700000</td>\n",
       "      <td>6.900000</td>\n",
       "    </tr>\n",
       "    <tr>\n",
       "      <th>max</th>\n",
       "      <td>26.200000</td>\n",
       "      <td>19.700000</td>\n",
       "      <td>22.300000</td>\n",
       "      <td>70.700000</td>\n",
       "      <td>3190.000000</td>\n",
       "      <td>1050.000000</td>\n",
       "      <td>1600.000000</td>\n",
       "      <td>1190.000000</td>\n",
       "      <td>19.100000</td>\n",
       "      <td>195.000000</td>\n",
       "    </tr>\n",
       "  </tbody>\n",
       "</table>\n",
       "</div>"
      ],
      "text/plain": [
       "       00010_Maximum  00010_Minimum   00010_Mean   00060_Mean  00095_Maximum  \\\n",
       "count    3546.000000    3546.000000  3546.000000  5076.000000    2273.000000   \n",
       "mean       14.655753      10.344134    12.211337     2.981769     810.393313   \n",
       "std         4.831149       4.094666     4.297360     3.959948     164.858284   \n",
       "min         2.600000      -0.000000     1.100000     0.340000     541.000000   \n",
       "25%        10.300000       6.800000     8.400000     1.420000     752.000000   \n",
       "50%        15.200000      10.700000    12.700000     2.110000     779.000000   \n",
       "75%        18.800000      14.100000    16.000000     3.100000     823.000000   \n",
       "max        26.200000      19.700000    22.300000    70.700000    3190.000000   \n",
       "\n",
       "       00095_Minimum   00095_Mean  63680_Maximum  63680_Minimum   63680_Mean  \n",
       "count    2273.000000  2273.000000    2172.000000    2172.000000  2172.000000  \n",
       "mean      693.237132   753.491861      36.400875       2.162799     6.965930  \n",
       "std       150.283270    90.434242      93.500496       1.697484    11.176238  \n",
       "min        86.000000   375.000000       1.100000       0.000000     0.600000  \n",
       "25%       685.000000   725.000000       5.800000       1.100000     2.400000  \n",
       "50%       740.000000   756.000000      10.000000       1.800000     4.000000  \n",
       "75%       772.000000   789.000000      29.000000       2.700000     6.900000  \n",
       "max      1050.000000  1600.000000    1190.000000      19.100000   195.000000  "
      ]
     },
     "execution_count": 7,
     "metadata": {},
     "output_type": "execute_result"
    }
   ],
   "source": [
    "df1.describe()"
   ]
  },
  {
   "cell_type": "markdown",
   "id": "3b72e56f",
   "metadata": {},
   "source": [
    "We can get a column from a `DataFrame` as a `Series` by refering to it using its column label. We will use this selection method to supply just the data we want in our plot."
   ]
  },
  {
   "cell_type": "code",
   "execution_count": 8,
   "id": "22968375",
   "metadata": {},
   "outputs": [
    {
     "data": {
      "text/plain": [
       "datetime\n",
       "2008-10-08 00:00:00-05:00    12.7\n",
       "2008-10-09 00:00:00-05:00    14.8\n",
       "2008-10-10 00:00:00-05:00    13.6\n",
       "2008-10-11 00:00:00-05:00    13.0\n",
       "2008-10-12 00:00:00-05:00    13.1\n",
       "Name: 00010_Mean, dtype: float64"
      ]
     },
     "execution_count": 8,
     "metadata": {},
     "output_type": "execute_result"
    }
   ],
   "source": [
    "df_tmp = df0['00010_Mean']\n",
    "df_tmp.head()"
   ]
  },
  {
   "cell_type": "markdown",
   "id": "3c24edee",
   "metadata": {},
   "source": [
    "# Concatenating the data\n",
    "\n",
    "Since we're drawing Series from two DataFrames let's concatenate to make a longer Series."
   ]
  },
  {
   "cell_type": "code",
   "execution_count": 9,
   "id": "81790917",
   "metadata": {},
   "outputs": [
    {
     "data": {
      "text/plain": [
       "datetime\n",
       "2008-10-08 00:00:00-05:00    12.7\n",
       "2008-10-09 00:00:00-05:00    14.8\n",
       "2008-10-10 00:00:00-05:00    13.6\n",
       "2008-10-11 00:00:00-05:00    13.0\n",
       "2008-10-12 00:00:00-05:00    13.1\n",
       "Name: 00010_Mean, dtype: float64"
      ]
     },
     "execution_count": 9,
     "metadata": {},
     "output_type": "execute_result"
    }
   ],
   "source": [
    "temps = pd.concat([df0['00010_Mean'], df1['00010_Mean']])\n",
    "temps.interpolate(limit=3, inplace=True, limit_direction='forward' )\n",
    "temps.head()"
   ]
  },
  {
   "cell_type": "markdown",
   "id": "160168a6",
   "metadata": {},
   "source": [
    "## Plotting our data\n",
    "\n",
    "Now we plot a time series from each of the datasets.\n",
    "- The first line sets up a new figure with dimensions in inches defined using the `figsize` keyword argument.\n",
    "- The second line adds a single subplot to our figure. The arguments to `add_subplot` represent the number of rows, number of columns, and index in a grid. This style of subplot maagement is familiar to Matlab users. More advanced layouts are possible as showing in the [Arranging Axes](https://matplotlib.org/stable/tutorials/intermediate/arranging_axes.html) tutorial.\n",
    "- The third and fourth lines add a title and y-axis label to our axes.\n",
    "- The fifth and sixth lines each add a plot series to the axes that we created. It does this by calling the Pandas plot helper function for each `Series`, `df0['00010_Mean']` and `df1['00010_Mean']` and placing the output on the axis we indicate with the `ax` keyword argument. "
   ]
  },
  {
   "cell_type": "code",
   "execution_count": 10,
   "id": "8c6ec9e2",
   "metadata": {
    "scrolled": true
   },
   "outputs": [
    {
     "data": {
      "text/plain": [
       "<AxesSubplot:title={'center':'Gage No 015765195, mainstem'}, xlabel='datetime', ylabel='$temperature, \\\\degree C$'>"
      ]
     },
     "execution_count": 10,
     "metadata": {},
     "output_type": "execute_result"
    },
    {
     "data": {
      "image/png": "[encoded data removed]",
      "text/plain": [
       "<Figure size 1040x480 with 1 Axes>"
      ]
     },
     "metadata": {},
     "output_type": "display_data"
    }
   ],
   "source": [
    "fig = plt.figure(figsize=(10.4,4.8))\n",
    "ax = fig.add_subplot(1, 1, 1)\n",
    "ax.set_title('Gage No {}, {}'.format(gage, gages[gage]))\n",
    "ax.set_ylabel(r'$temperature, \\degree C$')\n",
    "temps.plot(ax=ax, linestyle=None, marker=',', alpha=0.5)\n"
   ]
  },
  {
   "cell_type": "code",
   "execution_count": null,
   "id": "7421bd20",
   "metadata": {},
   "outputs": [],
   "source": []
  }
 ],
 "metadata": {
  "kernelspec": {
   "display_name": "Python (gage)",
   "language": "python",
   "name": "gage"
  },
  "language_info": {
   "codemirror_mode": {
    "name": "ipython",
    "version": 3
   },
   "file_extension": ".py",
   "mimetype": "text/x-python",
   "name": "python",
   "nbconvert_exporter": "python",
   "pygments_lexer": "ipython3",
   "version": "3.10.6"
  }
 },
 "nbformat": 4,
 "nbformat_minor": 5
}
