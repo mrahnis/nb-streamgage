{
 "cells": [
  {
   "cell_type": "markdown",
   "id": "63efbd56",
   "metadata": {},
   "source": [
    "## Install Anaconda Python Distribution\n",
    "\n",
    "The easist way to get started with all the things you need to do basic data analysis is to start with a Python distribution that packages the most commonly used libraries from the Python ecosystem. One of these is the Anaconda Distribution (https://www.anaconda.com/products/distribution).\n",
    "\n",
    "If you get the installer for your platform and install according to the directions you'll quickly have your computer set up to work with most types of data."
   ]
  },
  {
   "cell_type": "markdown",
   "id": "e068cb18",
   "metadata": {},
   "source": [
    "## Command-line Interface\n",
    "\n",
    "You can use tools like the Anaconda Navigator to manage your Python environments and settings, but it is also possible to do so from the command-line interface.\n",
    "\n",
    "Anaconda sets you up with a basic set of command-line prompts to use. You might have your default command-line prompt set up the way you like already in which case you can run ```conda init``` for your preferred shell. If I use PowerShell that would be:\n",
    "\n",
    "```powershell\n",
    "conda init powershell\n",
    "```\n",
    "\n",
    "Upon restarting the shell will provide me with the base environment."
   ]
  },
  {
   "cell_type": "markdown",
   "id": "ec117348",
   "metadata": {},
   "source": [
    "## Creating Environments\n",
    "\n",
    "One of the good things about Anaconda is the ease of creating and switching between environments. An environment can have installed just the tools and libraries you need for a given task. It also allows you to manage the version of the libraries in the environment, so it is possible to have environments for testing separate from ones for work. Environments can be removed, and the environment specification may be saved and shared.\n",
    "\n",
    "To create a new environment:\n",
    "\n",
    "```powershell\n",
    "conda create -n gage -c conda-forge numpy scipy pandas pyarrow dataretrieval\n",
    "```\n",
    "\n",
    "This new environment will be called gage, with packages sourced from the conda-forge repository, including the packages: numpy, scipy, pandas, pyarrow and dataretrieval.\n",
    "\n",
    "We can enter the environment:\n",
    "\n",
    "```powershell\n",
    "conda activate gage\n",
    "```\n",
    "\n",
    "and we can deactivate it:\n",
    "\n",
    "```powershell\n",
    "conda deactivate\n",
    "```\n"
   ]
  },
  {
   "cell_type": "markdown",
   "id": "ba43e4bb",
   "metadata": {},
   "source": [
    "## Installing an Environment as a Jupyter Kernel\n",
    "\n",
    "Let's install the gage environment for use as a Jupyter notebook kernel:\n",
    "\n",
    "```powershell\n",
    "python -m ipykernel install --user --name gage --display-name \"Python (gage)\"\n",
    "```\n",
    "\n",
    "Now if we start the Jupyter notebook interface we will see the kernel for our environment listed in the Kernel menu. If we switch to that kernel then we can use the libraries that we installed."
   ]
  },
  {
   "cell_type": "code",
   "execution_count": null,
   "id": "c58cba9e",
   "metadata": {},
   "outputs": [],
   "source": []
  }
 ],
 "metadata": {
  "kernelspec": {
   "display_name": "Python (gage)",
   "language": "python",
   "name": "gage"
  },
  "language_info": {
   "codemirror_mode": {
    "name": "ipython",
    "version": 3
   },
   "file_extension": ".py",
   "mimetype": "text/x-python",
   "name": "python",
   "nbconvert_exporter": "python",
   "pygments_lexer": "ipython3",
   "version": "3.10.6"
  }
 },
 "nbformat": 4,
 "nbformat_minor": 5
}
