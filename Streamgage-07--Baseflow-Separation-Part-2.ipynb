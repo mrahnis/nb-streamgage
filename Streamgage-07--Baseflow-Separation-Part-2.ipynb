{
 "cells": [
  {
   "cell_type": "markdown",
   "id": "f9d4e165",
   "metadata": {},
   "source": [
    "# Baseflow Separation with Recursive Digital Filters"
   ]
  },
  {
   "cell_type": "markdown",
   "id": "951f4828",
   "metadata": {},
   "source": [
    "[![Open In Colab](https://colab.research.google.com/assets/colab-badge.svg)](https://colab.research.google.com/github/mrahnis/nb-streamgage/blob/main/Streamgage-07--Baseflow-Separation-Part-2.ipynb)"
   ]
  },
  {
   "cell_type": "markdown",
   "id": "479bfc81",
   "metadata": {},
   "source": [
    "## Setup and imports"
   ]
  },
  {
   "cell_type": "code",
   "execution_count": 1,
   "id": "998b84a8-c4de-41e0-b49b-9a750203e5a5",
   "metadata": {},
   "outputs": [],
   "source": [
    "# colab uses python 3.7.15 currently and has no zoneinfo\n",
    "# from zoneinfo import ZoneInfo\n",
    "\n",
    "from datetime import datetime\n",
    "import pytz\n",
    "from math import ceil, floor,fmod\n",
    "import numpy as np\n",
    "from scipy.interpolate import interp1d\n",
    "import pandas as pd\n",
    "import matplotlib.pyplot as plt"
   ]
  },
  {
   "cell_type": "code",
   "execution_count": 2,
   "id": "5c8c0106-5a78-475d-bd4c-04433868d0d6",
   "metadata": {},
   "outputs": [],
   "source": [
    "# if the notebook is running in colab we'll get the data from github\n",
    "HOST_IS_COLAB = 'google.colab' in str(get_ipython())\n",
    "\n",
    "if HOST_IS_COLAB:\n",
    "    path = 'https://github.com/mrahnis/nb-streamgage/blob/main'\n",
    "    params = '?raw=true'\n",
    "else:\n",
    "    path = '.'\n",
    "    params = ''"
   ]
  },
  {
   "cell_type": "code",
   "execution_count": 3,
   "id": "7fd3838d-fedc-4ec0-80bd-4eb2364cf55f",
   "metadata": {},
   "outputs": [
    {
     "name": "stdout",
     "output_type": "stream",
     "text": [
      "https://waterdata.usgs.gov/monitoring-location/01576516/\n",
      "https://waterdata.usgs.gov/monitoring-location/015765185/\n",
      "https://waterdata.usgs.gov/monitoring-location/015765195/\n",
      "https://waterdata.usgs.gov/monitoring-location/01576521/\n",
      "https://waterdata.usgs.gov/monitoring-location/01576754/\n"
     ]
    }
   ],
   "source": [
    "favorites = {'01576516':'east branch',\n",
    "         '015765185':'west branch',\n",
    "         '015765195':'mainstem',\n",
    "         '01576521':'mainstem-historical',\n",
    "         '01576754':'conenstoga river at conestoga, pa'}\n",
    "\n",
    "gage = '015765195'\n",
    "freq = 'daily' # daily or instantaneous\n",
    "col = '00060_Mean'\n",
    "\n",
    "for key in favorites:\n",
    "    print('https://waterdata.usgs.gov/monitoring-location/{}/'.format(key))"
   ]
  },
  {
   "cell_type": "markdown",
   "id": "35fc6b7a",
   "metadata": {},
   "source": [
    "## Load data"
   ]
  },
  {
   "cell_type": "code",
   "execution_count": 4,
   "id": "d59d38fb-6a17-4d25-ab58-6d22ccb014a5",
   "metadata": {},
   "outputs": [],
   "source": [
    "# load data\n",
    "df_all = pd.read_parquet('{}/data/nwis_{}_{}_all.parquet{}'.format(path, gage, freq, params))\n",
    "\n",
    "# let's examine a subset of the data to see what happens up close\n",
    "# startdate = datetime(2012, 1, 1, 0, 0, tzinfo=ZoneInfo(\"US/Eastern\"))\n",
    "# enddate = datetime(2012, 12, 31, 0, 0, tzinfo=ZoneInfo(\"US/Eastern\"))\n",
    "startdate = datetime(2012, 1, 1, 0, 0, tzinfo=pytz.timezone('US/Eastern'))\n",
    "enddate = datetime(2012, 12, 31, 0, 0, tzinfo=pytz.timezone('US/Eastern'))\n",
    "\n",
    "df = df_all[startdate:enddate].copy()\n",
    "# Q = df[col].to_numpy()\n",
    "Q = df_all[col].to_numpy()\n"
   ]
  },
  {
   "cell_type": "markdown",
   "id": "b04ef995",
   "metadata": {},
   "source": [
    "## One-Parameter Recursive Digital Filter of Nathan and McMahon, 1990\n",
    "\n",
    "$\\large R_{t} = \\alpha \\cdot R_{(t- \\Delta t)} + \\frac{1 + \\alpha}{2} \\cdot (Q_{t}-Q_{(t- \\Delta t)})$\n",
    "\n",
    "where:\n",
    "- $\\alpha$ is an adjustable filter parameter usually between 0.9 and 0.95\n",
    "- $R_{t}$ is the calculated runoff or quickflow component of discharge at time t\n",
    "- $Q_{t}$ is the observed total discharge at time t\n",
    "- $Q_{(t- \\Delta t)}$ is the observed total discharge one timestep prior to time t\n",
    "\n",
    "and baseflow:\n",
    "- $Q_{b_{t}} = Q_{t}-R_{t}$"
   ]
  },
  {
   "cell_type": "code",
   "execution_count": 5,
   "id": "30bbdf78",
   "metadata": {},
   "outputs": [],
   "source": [
    "alpha = 0.9           # parameter, alpha\n",
    "R = np.zeros_like(Q)  # initialize R to zeros"
   ]
  },
  {
   "cell_type": "code",
   "execution_count": 6,
   "id": "d7019738",
   "metadata": {},
   "outputs": [],
   "source": [
    "# usually iterate 1, 2, or 3 times\n",
    "n = 3\n",
    "\n",
    "for i in range(n):\n",
    "    R = alpha*np.roll(R, 1) + ((1+alpha)/2)*(Q - np.roll(Q, 1))\n",
    "    \n",
    "    # fix out of range\n",
    "    R = np.where((R < 0), 0, R)\n",
    "    R = np.where((R > Q), Q, R)\n",
    "\n",
    "    # calculate the current baseflow\n",
    "    Qb = Q - R"
   ]
  },
  {
   "cell_type": "code",
   "execution_count": 7,
   "id": "08bb6f6d-f758-48c8-9b4e-1c4db9478e2e",
   "metadata": {},
   "outputs": [
    {
     "data": {
      "image/png": "[encoded data removed]",
      "text/plain": [
       "<Figure size 432x288 with 1 Axes>"
      ]
     },
     "metadata": {
      "needs_background": "light"
     },
     "output_type": "display_data"
    }
   ],
   "source": [
    "# After n iterations\n",
    "fig = plt.figure()\n",
    "ax1 = fig.add_subplot(111)\n",
    "ax1.set_yscale('log')\n",
    "ax1.plot(Q, color='gray', alpha=0.5)\n",
    "ax1.plot(Qb, color='blue', alpha=0.5)\n",
    "ax1.set_xlabel('days')\n",
    "ax1.set_ylabel('flow, cfs')\n",
    "ax1.set_title('One-parameter RDF, {} iterations'.format(n))\n",
    "plt.show()"
   ]
  },
  {
   "cell_type": "markdown",
   "id": "0a0a9240",
   "metadata": {},
   "source": [
    "\n",
    "## Two-Parameter Recursive Digital Filter of Eckhardt, 2005\n",
    "\n"
   ]
  },
  {
   "cell_type": "markdown",
   "id": "9a661497",
   "metadata": {},
   "source": [
    "$\\large Q_{b_{t}} = \\Large \\frac{(1 - \\beta) \\cdot \\alpha \\cdot Q_{b_{(t- \\Delta t)}} + (1 - \\alpha ) \\cdot \\beta \\cdot Q_{t}}{1 - \\alpha \\cdot \\beta}$\n",
    "\n",
    "where:\n",
    "\n",
    "- $\\alpha$ is a dimensionless recession constant between 0 and 1\n",
    "- $\\beta$ is a long-term ratio of baseflow to total streamflow between 0 and 1, and is equivalent to $BFI_{max}$\n",
    "- $Q_{t}$ is observed discharge at time t\n",
    "- $Q_{\\beta_{t}}$ is calculated baseflow dischage at time t\n",
    "- $Q_{\\beta_{(t- \\Delta t)}}$ is calculated baseflow dischage at time t-1 sampling interval"
   ]
  },
  {
   "cell_type": "code",
   "execution_count": 8,
   "id": "543d260c",
   "metadata": {},
   "outputs": [],
   "source": [
    "alpha = 0.98   # filter parameter alpha\n",
    "beta = 0.6     # filter parameter beta\n",
    "Qb = Q         # initialize baseflow to Q"
   ]
  },
  {
   "cell_type": "code",
   "execution_count": 9,
   "id": "bb9efd09",
   "metadata": {},
   "outputs": [],
   "source": [
    "n = 1\n",
    "\n",
    "for i in range(n):\n",
    "    Qb = ((1 - beta) * alpha * np.roll(Qb, 1) + (1-alpha)*beta*Q) / (1-alpha*beta)    \n",
    "    Qb = np.where((Qb > Q), Q, Qb)    "
   ]
  },
  {
   "cell_type": "code",
   "execution_count": 10,
   "id": "80eefd57",
   "metadata": {},
   "outputs": [
    {
     "data": {
      "image/png": "[encoded data removed]",
      "text/plain": [
       "<Figure size 432x288 with 1 Axes>"
      ]
     },
     "metadata": {
      "needs_background": "light"
     },
     "output_type": "display_data"
    }
   ],
   "source": [
    "# After n iterations\n",
    "fig = plt.figure()\n",
    "ax1 = fig.add_subplot(111)\n",
    "ax1.set_yscale('log')\n",
    "ax1.plot(Q, color='gray', alpha=0.5)\n",
    "ax1.plot(Qb, color='blue', alpha=0.5)\n",
    "ax1.set_xlabel('days')\n",
    "ax1.set_ylabel('flow, cfs')\n",
    "ax1.set_title('Two-parameter RDF, {} iterations'.format(n))\n",
    "plt.show()"
   ]
  },
  {
   "cell_type": "markdown",
   "id": "ef6216c3",
   "metadata": {},
   "source": [
    "## Base Flow Index (BFI) of Wahl and Wahl, 1995\n",
    "\n",
    "https://www.usbr.gov/tsc/techreferences/hydraulics_lab/pubs/PAP/PAP-0708.pdf"
   ]
  },
  {
   "cell_type": "code",
   "execution_count": 11,
   "id": "36c066ec",
   "metadata": {},
   "outputs": [],
   "source": [
    "# calculate the mean discharge minima for each n-day block\n",
    "def get_window_mins(arr, step):\n",
    "    window_starts = np.arange(floor(len(arr) / step)) * step\n",
    "    for start in window_starts:\n",
    "        yield start + arr[start:start+step].argmin()\n",
    "\n",
    "def wahl_baseflow(Q, N, f):\n",
    "    # calculate the block min values and index positions in Q\n",
    "    window_min_ix = list(get_window_mins(Q, N))\n",
    "    window_min_vals = np.take(Q, window_min_ix)    \n",
    "    \n",
    "    # make a boolean mask with turning points == True\n",
    "    mask = np.where(\n",
    "        (f*window_min_vals < np.roll(window_min_vals, 1)) & (f*window_min_vals < np.roll(window_min_vals, -1)),\n",
    "        True, False\n",
    "    )\n",
    "    \n",
    "    # filter the turning point indices from the block minima indices \n",
    "    turning_pt_ix = np.delete(window_min_ix, ~mask)\n",
    "    \n",
    "    # interpolation function to linearly interpolate between turning points over a range of index values\n",
    "    fn = interp1d(turning_pt_ix, Q.take(turning_pt_ix), kind='linear')\n",
    "    X = np.arange(turning_pt_ix.min(), turning_pt_ix.max())\n",
    "    Y = fn(X)\n",
    "\n",
    "    # within the interpolated range set any Y > Q equal to Q\n",
    "    Y = np.where((Y > Q[X]), Q[X], Y)\n",
    "    \n",
    "    return X, Y"
   ]
  },
  {
   "cell_type": "code",
   "execution_count": 12,
   "id": "118e1cc0",
   "metadata": {},
   "outputs": [],
   "source": [
    "# the typical window size, N, is 5-days\n",
    "N = 5\n",
    "# set the factor, f\n",
    "f = 0.9\n",
    "\n",
    "X, Y = wahl_baseflow(Q, N, f)"
   ]
  },
  {
   "cell_type": "code",
   "execution_count": 13,
   "id": "e299d9af",
   "metadata": {},
   "outputs": [
    {
     "data": {
      "image/png": "[encoded data removed]",
      "text/plain": [
       "<Figure size 432x288 with 1 Axes>"
      ]
     },
     "metadata": {
      "needs_background": "light"
     },
     "output_type": "display_data"
    }
   ],
   "source": [
    "# Plot base flow using the method of Wahl and Wahl, 1995\n",
    "fig = plt.figure()\n",
    "ax1 = fig.add_subplot(111)\n",
    "ax1.set_yscale('log')\n",
    "ax1.plot(Q, color='gray', alpha=0.5)\n",
    "ax1.plot(X, Y, color='blue', alpha=0.5)\n",
    "ax1.set_xlabel('days')\n",
    "ax1.set_ylabel('flow, cfs')\n",
    "ax1.set_title('BFI baseflow, N={}, f={}'.format(N, f))\n",
    "plt.show()"
   ]
  },
  {
   "cell_type": "code",
   "execution_count": 14,
   "id": "d1ece132",
   "metadata": {},
   "outputs": [
    {
     "name": "stdout",
     "output_type": "stream",
     "text": [
      "0.6338985368337934\n"
     ]
    }
   ],
   "source": [
    "# calculate BFI index, the total base flow divided by total stream flow\n",
    "BFI = Y.sum()/Q[X].sum()\n",
    "print(BFI)"
   ]
  },
  {
   "cell_type": "markdown",
   "id": "9c19e420",
   "metadata": {},
   "source": [
    "### Choose an optimal value of N"
   ]
  },
  {
   "cell_type": "code",
   "execution_count": 15,
   "id": "aa312820",
   "metadata": {},
   "outputs": [],
   "source": [
    "# calculate BFI for a range of block sizes, N\n",
    "N_range = range(1,31)\n",
    "BFI_arr = []\n",
    "for N in N_range:\n",
    "    X, Y = wahl_baseflow(Q, N, f)\n",
    "    BFI_arr += [Y.sum()/Q[X].sum()]"
   ]
  },
  {
   "cell_type": "code",
   "execution_count": 16,
   "id": "691a48bb",
   "metadata": {},
   "outputs": [
    {
     "data": {
      "image/png": "[encoded data removed]",
      "text/plain": [
       "<Figure size 432x288 with 1 Axes>"
      ]
     },
     "metadata": {
      "needs_background": "light"
     },
     "output_type": "display_data"
    }
   ],
   "source": [
    "# Plot BFI-N relation and choose an N near break in slope relation\n",
    "fig = plt.figure()\n",
    "ax1 = fig.add_subplot(111)\n",
    "ax1.plot(N_range, BFI_arr, marker='.', )\n",
    "ax1.set_xlabel('N days')\n",
    "ax1.set_ylabel('BFI, B-total/Q-total')\n",
    "ax1.set_title('BFI-N')\n",
    "plt.show()"
   ]
  },
  {
   "cell_type": "markdown",
   "id": "d9b3cc9f",
   "metadata": {},
   "source": [
    "## Optimal Hydrograph Separation of Raffensperger, et al. 2017"
   ]
  },
  {
   "cell_type": "markdown",
   "id": "3053678b",
   "metadata": {},
   "source": [
    "### Calculate the BFI baseflow using the optimal N value"
   ]
  },
  {
   "cell_type": "code",
   "execution_count": 17,
   "id": "c478290a",
   "metadata": {},
   "outputs": [],
   "source": [
    "N = 5\n",
    "X, Y = wahl_baseflow(Q, N, f)"
   ]
  },
  {
   "cell_type": "markdown",
   "id": "68983f27",
   "metadata": {},
   "source": [
    "### Estimate filter parameter alpha"
   ]
  },
  {
   "cell_type": "code",
   "execution_count": 18,
   "id": "d792de29",
   "metadata": {},
   "outputs": [],
   "source": [
    "# find the baseflow equal to Q\n",
    "alpha_mask = (Y==Q[X])  # *(Y - np.roll(Y, 1) < 0)\n",
    "\n",
    "# label runs of consecutive days where baseflow = Q\n",
    "labels = pd.DataFrame()\n",
    "label = 0\n",
    "runlength = 0\n",
    "prev_state = False\n",
    "\n",
    "alpha_iter = np.nditer(alpha_mask, flags=['f_index'])\n",
    "for state in alpha_iter:\n",
    "    if state == prev_state:\n",
    "        runlength += 1\n",
    "    else:\n",
    "        label += 1\n",
    "        runlength = 1\n",
    "    labels.loc[alpha_iter.index, 'mask'] = state\n",
    "    labels.loc[alpha_iter.index, 'label'] = label\n",
    "    labels.loc[alpha_iter.index, 'runlength'] = runlength\n",
    "    prev_state = state\n",
    "\n",
    "# get the duration of these recession periods\n",
    "periods = labels.reset_index().groupby('label').agg(\n",
    "    firstday=('index', 'first'),\n",
    "    lastday=('index', 'last'),\n",
    "    mask=('mask','first'),\n",
    "    runlength=('runlength','max')\n",
    ")"
   ]
  },
  {
   "cell_type": "code",
   "execution_count": 19,
   "id": "2768d785",
   "metadata": {},
   "outputs": [
    {
     "data": {
      "text/html": [
       "<div>\n",
       "<style scoped>\n",
       "    .dataframe tbody tr th:only-of-type {\n",
       "        vertical-align: middle;\n",
       "    }\n",
       "\n",
       "    .dataframe tbody tr th {\n",
       "        vertical-align: top;\n",
       "    }\n",
       "\n",
       "    .dataframe thead th {\n",
       "        text-align: right;\n",
       "    }\n",
       "</style>\n",
       "<table border=\"1\" class=\"dataframe\">\n",
       "  <thead>\n",
       "    <tr style=\"text-align: right;\">\n",
       "      <th></th>\n",
       "      <th>firstday</th>\n",
       "      <th>lastday</th>\n",
       "      <th>mask</th>\n",
       "      <th>runlength</th>\n",
       "      <th>alpha</th>\n",
       "    </tr>\n",
       "    <tr>\n",
       "      <th>label</th>\n",
       "      <th></th>\n",
       "      <th></th>\n",
       "      <th></th>\n",
       "      <th></th>\n",
       "      <th></th>\n",
       "    </tr>\n",
       "  </thead>\n",
       "  <tbody>\n",
       "    <tr>\n",
       "      <th>975.0</th>\n",
       "      <td>3549</td>\n",
       "      <td>3564</td>\n",
       "      <td>True</td>\n",
       "      <td>16.0</td>\n",
       "      <td>0.939413</td>\n",
       "    </tr>\n",
       "    <tr>\n",
       "      <th>1009.0</th>\n",
       "      <td>3710</td>\n",
       "      <td>3717</td>\n",
       "      <td>True</td>\n",
       "      <td>8.0</td>\n",
       "      <td>0.882497</td>\n",
       "    </tr>\n",
       "    <tr>\n",
       "      <th>775.0</th>\n",
       "      <td>2903</td>\n",
       "      <td>2909</td>\n",
       "      <td>True</td>\n",
       "      <td>7.0</td>\n",
       "      <td>0.866878</td>\n",
       "    </tr>\n",
       "    <tr>\n",
       "      <th>471.0</th>\n",
       "      <td>1840</td>\n",
       "      <td>1846</td>\n",
       "      <td>True</td>\n",
       "      <td>7.0</td>\n",
       "      <td>0.866878</td>\n",
       "    </tr>\n",
       "    <tr>\n",
       "      <th>1097.0</th>\n",
       "      <td>4017</td>\n",
       "      <td>4022</td>\n",
       "      <td>True</td>\n",
       "      <td>6.0</td>\n",
       "      <td>0.846482</td>\n",
       "    </tr>\n",
       "    <tr>\n",
       "      <th>...</th>\n",
       "      <td>...</td>\n",
       "      <td>...</td>\n",
       "      <td>...</td>\n",
       "      <td>...</td>\n",
       "      <td>...</td>\n",
       "    </tr>\n",
       "    <tr>\n",
       "      <th>557.0</th>\n",
       "      <td>2154</td>\n",
       "      <td>2154</td>\n",
       "      <td>True</td>\n",
       "      <td>1.0</td>\n",
       "      <td>0.367879</td>\n",
       "    </tr>\n",
       "    <tr>\n",
       "      <th>555.0</th>\n",
       "      <td>2150</td>\n",
       "      <td>2150</td>\n",
       "      <td>True</td>\n",
       "      <td>1.0</td>\n",
       "      <td>0.367879</td>\n",
       "    </tr>\n",
       "    <tr>\n",
       "      <th>553.0</th>\n",
       "      <td>2145</td>\n",
       "      <td>2145</td>\n",
       "      <td>True</td>\n",
       "      <td>1.0</td>\n",
       "      <td>0.367879</td>\n",
       "    </tr>\n",
       "    <tr>\n",
       "      <th>547.0</th>\n",
       "      <td>2124</td>\n",
       "      <td>2124</td>\n",
       "      <td>True</td>\n",
       "      <td>1.0</td>\n",
       "      <td>0.367879</td>\n",
       "    </tr>\n",
       "    <tr>\n",
       "      <th>1383.0</th>\n",
       "      <td>5050</td>\n",
       "      <td>5050</td>\n",
       "      <td>True</td>\n",
       "      <td>1.0</td>\n",
       "      <td>0.367879</td>\n",
       "    </tr>\n",
       "  </tbody>\n",
       "</table>\n",
       "<p>692 rows × 5 columns</p>\n",
       "</div>"
      ],
      "text/plain": [
       "        firstday  lastday  mask  runlength     alpha\n",
       "label                                               \n",
       "975.0       3549     3564  True       16.0  0.939413\n",
       "1009.0      3710     3717  True        8.0  0.882497\n",
       "775.0       2903     2909  True        7.0  0.866878\n",
       "471.0       1840     1846  True        7.0  0.866878\n",
       "1097.0      4017     4022  True        6.0  0.846482\n",
       "...          ...      ...   ...        ...       ...\n",
       "557.0       2154     2154  True        1.0  0.367879\n",
       "555.0       2150     2150  True        1.0  0.367879\n",
       "553.0       2145     2145  True        1.0  0.367879\n",
       "547.0       2124     2124  True        1.0  0.367879\n",
       "1383.0      5050     5050  True        1.0  0.367879\n",
       "\n",
       "[692 rows x 5 columns]"
      ]
     },
     "execution_count": 19,
     "metadata": {},
     "output_type": "execute_result"
    }
   ],
   "source": [
    "# the duration is inclusive of the last day we we add a timedelta of 1 day\n",
    "# periods['duration'] = periods['lastday'] - periods['firstday'] + pd.Timedelta(days=1)\n",
    "recessions = periods[periods['mask']==True].sort_values(by='runlength', ascending=False)\n",
    "\n",
    "# alpha = pow(e, -(1/t)*dt)\n",
    "# where t is the length of the run and dt is the sampling freqency or timestep\n",
    "if freq == 'instantaneous':\n",
    "    dt = 24*4\n",
    "else:\n",
    "    dt = 1\n",
    "recessions['alpha'] = np.exp(-dt*(1/recessions['runlength']))\n",
    "\n",
    "recessions"
   ]
  },
  {
   "cell_type": "code",
   "execution_count": 20,
   "id": "d62fe87e",
   "metadata": {},
   "outputs": [
    {
     "data": {
      "text/plain": [
       "(array([66.,  0., 18.,  0.,  6.,  3.,  2.,  1.,  0.,  1.]),\n",
       " array([0.71653131, 0.73881949, 0.76110766, 0.78339584, 0.80568401,\n",
       "        0.82797219, 0.85026036, 0.87254854, 0.89483671, 0.91712489,\n",
       "        0.93941306]),\n",
       " <BarContainer object of 10 artists>)"
      ]
     },
     "execution_count": 20,
     "metadata": {},
     "output_type": "execute_result"
    },
    {
     "data": {
      "image/png": "[encoded data removed]",
      "text/plain": [
       "<Figure size 432x288 with 1 Axes>"
      ]
     },
     "metadata": {
      "needs_background": "light"
     },
     "output_type": "display_data"
    }
   ],
   "source": [
    "counts, bins = np.histogram(recessions[recessions['runlength'] >= 3.0]['alpha'])\n",
    "plt.hist(bins[:-1], bins, weights=counts)"
   ]
  },
  {
   "cell_type": "code",
   "execution_count": 21,
   "id": "d7040388",
   "metadata": {},
   "outputs": [
    {
     "data": {
      "text/plain": [
       "0.7165313105737893"
      ]
     },
     "execution_count": 21,
     "metadata": {},
     "output_type": "execute_result"
    }
   ],
   "source": [
    "optimized_alpha = recessions[recessions['runlength'] >= 3.0]['alpha'].median()\n",
    "optimized_alpha"
   ]
  },
  {
   "cell_type": "markdown",
   "id": "e397ca28",
   "metadata": {},
   "source": [
    "## References:\n",
    "\n",
    "[Introduction to Digital Filters](https://123.physics.ucdavis.edu/week_5_files/filters/digital_filter.pdf)\n",
    "- A physics lesson on digital filters for signal processing.\n",
    "- Recursive filters are also refered to as IIR (Infinite Impulse Response) Filters. Scipy has signal modules that may be used to build such filters.\n",
    "\n",
    "[Optimal hydrograph separation using a recursive digital filter constrained by chemical mass balance, with application to selected Chesapeake Bay watersheds](https://pubs.er.usgs.gov/publication/sir20175034)\n",
    "- Raffensperger et al, 2017 \n",
    "- Evaluates baseflow separation calculations in Chesapeake Bay tributaries.\n",
    "\n",
    "[HYSEP: A COMPUTER PROGRAM FOR STREAMFLOW HYDROGRAPH SEPARATION AND ANALYSIS](https://water.usgs.gov/software/HYSEP/code/doc/hysep.pdf)\n",
    "- Sloto and Crouse, 1996\n",
    "\n",
    "[Beyond binary baseflow separation: a delayed-flow index for multiple streamflow contributions](https://hess.copernicus.org/articles/24/849/2020/)\n",
    "- Stoelze, et al, 2020\n",
    "- Discusses delayed flow hydrographs. The baseflow that a given method returns may consist of multiple delayed flows (long-term groundwater, short-term groundwater, showmelt...). Furthermore the estimation of the BFI ratio is subject to some vagaries that depend on the size of the block, N, used to extract minima or turning points. \n"
   ]
  }
 ],
 "metadata": {
  "kernelspec": {
   "display_name": "gage",
   "language": "python",
   "name": "gage"
  },
  "language_info": {
   "codemirror_mode": {
    "name": "ipython",
    "version": 3
   },
   "file_extension": ".py",
   "mimetype": "text/x-python",
   "name": "python",
   "nbconvert_exporter": "python",
   "pygments_lexer": "ipython3",
   "version": "3.9.12"
  }
 },
 "nbformat": 4,
 "nbformat_minor": 5
}
